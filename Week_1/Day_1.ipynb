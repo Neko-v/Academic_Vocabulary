{
 "cells": [
  {
   "cell_type": "markdown",
   "id": "e6ceb891-e017-4c6b-a460-46599bac86c7",
   "metadata": {},
   "source": [
    "# Assessment(n)"
   ]
  },
  {
   "cell_type": "markdown",
   "id": "afe9407c-8a14-4788-b88e-d4556b4f140c",
   "metadata": {},
   "source": [
    "A method or process of evaluating a student's knowledge, performance, or progress, typically through tests, projects, or assignments. (Education)\n",
    "\n",
    "Sentence: The assessment was designed to measure students' analytical and problem-solving abilities.\n",
    "\n",
    "Verb: Assess\n",
    "\n",
    "Adjective: Assessable\n",
    "\n",
    "Prefixes: Reassess\n",
    "\n",
    "Collocations:\n",
    "\n",
    "initial(adj) + \n",
    "\n",
    "regular(adj) +\n",
    "\n",
    "independent(adj) +\n",
    "\n",
    "undertake(v) an +\n",
    "\n",
    "give(v) an +"
   ]
  },
  {
   "cell_type": "markdown",
   "id": "a145d182-21cd-4950-84cf-17e89ad551a2",
   "metadata": {},
   "source": [
    "# Algorithm(n)"
   ]
  },
  {
   "cell_type": "markdown",
   "id": "dc5f87ee-1445-421c-85ff-f92b20dfb77a",
   "metadata": {},
   "source": [
    "A set of rules or a process to be followed in problem-solving operations, especially by a computer. (Computer Science)\n",
    "\n",
    "Sentence: The proposed algorithm substantially enhances the efficiency of the image generation process.\n",
    "\n",
    "Adjective: Algorithmic\n",
    "\n",
    "Adverb: Algorithmically\n",
    "\n",
    "Collocations:\n",
    "\n",
    "complex(adj) +\n",
    "\n",
    "efficient(adj) +\n",
    "\n",
    "learning(n) +\n",
    "\n",
    "design(v) an +\n",
    "\n",
    "implement(v) an +"
   ]
  },
  {
   "cell_type": "markdown",
   "id": "11bfd189-a704-4134-8f67-57898125de14",
   "metadata": {
    "jp-MarkdownHeadingCollapsed": true
   },
   "source": [
    "# Parameter(n)"
   ]
  },
  {
   "cell_type": "markdown",
   "id": "8c42e414-3d37-4386-9ec1-3beb07f6339c",
   "metadata": {},
   "source": [
    "A numerical or measurable factor forming one of a set that defines a system or sets the conditions of its operation. (Mathematics / AI)\n",
    "\n",
    "Sentence: The performance of the model is highly dependent on the parameters selected during training.\n",
    "\n",
    "Adjective: Parametric\n",
    "\n",
    "Noun: Parameterization\n",
    "\n",
    "Verb: Parameterize\n",
    "\n",
    "Collocations:\n",
    "\n",
    "model(n) +\n",
    "\n",
    "input(n) +\n",
    "\n",
    "estimate(v) +\n",
    "\n",
    "adjust(v) +\n",
    "\n",
    "tune(v) +"
   ]
  },
  {
   "cell_type": "markdown",
   "id": "1d32485d-1b14-4591-bb4e-b38532790ad5",
   "metadata": {
    "jp-MarkdownHeadingCollapsed": true
   },
   "source": [
    "# Framework(n)"
   ]
  },
  {
   "cell_type": "markdown",
   "id": "c66ceb4b-b610-4dda-85b7-7c5b355e6e65",
   "metadata": {},
   "source": [
    "A basic structure underlying a system, concept, or text. (Academic / Computer Science)\n",
    "\n",
    "Sentence: A novel framework for 3D Gaussian Splatting is proposed to enhance reconstruction quality.\n",
    "\n",
    "Adjective: Framework-based\n",
    "\n",
    "Collocations:\n",
    "\n",
    "conceptual(adj) +\n",
    "\n",
    "computational(adj) +\n",
    "\n",
    "theoretical(adj) +\n",
    "\n",
    "develop(v) a +\n",
    "\n",
    "propose(v) a +"
   ]
  },
  {
   "cell_type": "markdown",
   "id": "a17d1b8b-c1ab-4eb0-b31e-e72f506b6003",
   "metadata": {
    "jp-MarkdownHeadingCollapsed": true
   },
   "source": [
    "# Synthesis(n)"
   ]
  },
  {
   "cell_type": "markdown",
   "id": "9ccb000a-6d71-4544-84ca-4d18756b336e",
   "metadata": {},
   "source": [
    "The combination of components or elements to form a connected whole. (Science / AI)\n",
    "\n",
    "Sentence: The process of image synthesis involves a trade-off between visual realism and creative flexibility.\n",
    "\n",
    "Verb: Synthesise(UK) / Sythesize(US)\n",
    "\n",
    "Noun: Synthesizer\n",
    "\n",
    "Adjective: Synthetic\n",
    "\n",
    "Adverb: Synthetically\n",
    "\n",
    "data(n) +\n",
    "\n",
    "image(n) +\n",
    "\n",
    "feature(n) +\n",
    "\n",
    "perform(v) +\n",
    "\n",
    "achieve(v) +"
   ]
  },
  {
   "cell_type": "markdown",
   "id": "7d86eedd-7ac2-4e89-a80b-dcb1752330cd",
   "metadata": {
    "jp-MarkdownHeadingCollapsed": true
   },
   "source": [
    "# Optimization(n)"
   ]
  },
  {
   "cell_type": "markdown",
   "id": "049b22af-cac9-4a7c-b10a-4c76d89f2ea3",
   "metadata": {},
   "source": [
    "The action of making the best or most effective use of a situation or resource. (Mathematics / Computer Science)\n",
    "\n",
    "Sentence: Optimization is a fundamental component in the training of deep neural networks.\n",
    "\n",
    "Verb: Optimize\n",
    "\n",
    "Noun: Optimizer\n",
    "\n",
    "Adjective: Optimal / Optimized\n",
    "\n",
    "Adverb: Optimally\n",
    "\n",
    "Collocations:\n",
    "\n",
    "model(n) +\n",
    "\n",
    "parameter(n) +\n",
    "\n",
    "process(n) +\n",
    "\n",
    "perform(v) +\n",
    "\n",
    "achieve(v) +"
   ]
  },
  {
   "cell_type": "markdown",
   "id": "2eeca82e-9c54-4c92-9f0a-602c8093ac66",
   "metadata": {
    "jp-MarkdownHeadingCollapsed": true
   },
   "source": [
    "# Representation(n)"
   ]
  },
  {
   "cell_type": "markdown",
   "id": "3b7e1c53-e557-4b68-9f02-7a669c9c5284",
   "metadata": {},
   "source": [
    "The way in which something is shown, especially in a particular form such as data, image, or symbol. (AI / Computer Vision)\n",
    "\n",
    "Sentence: The model is trained to learn compact representations that capture essential visual information.\n",
    "\n",
    "Verb: Represent\n",
    "\n",
    "Noun: Representation\n",
    "\n",
    "Adjective: Representative\n",
    "\n",
    "Adverb: REpresentatively\n",
    "\n",
    "Collocations:\n",
    "\n",
    "visual(adj) +\n",
    "\n",
    "semantic(adj) +\n",
    "\n",
    "latent(adj) +\n",
    "\n",
    "Representation + learning(n)\n",
    "\n",
    "Representation + model(n)"
   ]
  },
  {
   "cell_type": "markdown",
   "id": "9d65444b-0cce-4a11-bdaf-156fd763cb55",
   "metadata": {
    "jp-MarkdownHeadingCollapsed": true
   },
   "source": [
    "# Generation(n)"
   ]
  },
  {
   "cell_type": "markdown",
   "id": "d807439c-9bd1-4687-811e-08a47a8b63e3",
   "metadata": {},
   "source": [
    "The process of producing or creating something, especially images, text, or other data using AI models. (AIGC / Machine Learning)\n",
    "\n",
    "Sentence: Text-to-image generation has emerged as a key research focus within the field of generative AI.\n",
    "\n",
    "Verb: Generate\n",
    "\n",
    "Noun: Generator\n",
    "\n",
    "Adjective: Generative\n",
    "\n",
    "Adverb: Generatively\n",
    "\n",
    "Collocaitons:\n",
    "\n",
    "image(n) +\n",
    "\n",
    "text(n) +\n",
    "\n",
    "content(n) +\n",
    "\n",
    "generation + model(n)\n",
    "\n",
    "generation + task(n)"
   ]
  },
  {
   "cell_type": "markdown",
   "id": "e4b0f1c3-0d33-4c46-858d-22276d1b4d7c",
   "metadata": {},
   "source": [
    "# Simulation(n)"
   ]
  },
  {
   "cell_type": "markdown",
   "id": "0712b831-8598-4498-b479-40a80fb8e9f6",
   "metadata": {},
   "source": [
    "The process of creating an artificial model or system that imitates real-world conditions or behaviors for study or purposes. (Computer Science / Engineering)\n",
    "\n",
    "Sentence: The study uses a 3D simulation to analyze the performance of the rendering algorithm.\n",
    "\n",
    "Verb: Simulate\n",
    "\n",
    "Adjective: Simulated\n",
    "\n",
    "Noun: Simulator\n",
    "\n",
    "Collocations:\n",
    "\n",
    "computer-based(adj) +\n",
    "\n",
    "realistic(adj) +\n",
    "\n",
    "numerical(adj) +\n",
    "\n",
    "run(v) a +\n",
    "\n",
    "perform(v) a +"
   ]
  },
  {
   "cell_type": "markdown",
   "id": "ee7710cd-6f87-4c76-a7b4-3f72d73c629f",
   "metadata": {},
   "source": [
    "# Fidelity(n)"
   ]
  },
  {
   "cell_type": "markdown",
   "id": "b80b19dd-a7d8-4c0b-be3c-c673b1c80c03",
   "metadata": {},
   "source": [
    "The degree to which a generated or reconstructed result accurately reflects the original data or reality. (Computer Graphics / Image Generation / Evaluation)\n",
    "\n",
    "Sentence: The model achieves high visual fidelity in rendering complex 3D scenes from limited input views.\n",
    "\n",
    "Adjective: Faithful\n",
    "\n",
    "Adverb: Fatithfully\n",
    "\n",
    "Collocations:\n",
    "\n",
    "visual(adj) +\n",
    "\n",
    "high(adj) +\n",
    "\n",
    "image(n) +\n",
    "\n",
    "maintain(v) +\n",
    "\n",
    "evaluate(v) +"
   ]
  }
 ],
 "metadata": {
  "kernelspec": {
   "display_name": "Python [conda env:base] *",
   "language": "python",
   "name": "conda-base-py"
  },
  "language_info": {
   "codemirror_mode": {
    "name": "ipython",
    "version": 3
   },
   "file_extension": ".py",
   "mimetype": "text/x-python",
   "name": "python",
   "nbconvert_exporter": "python",
   "pygments_lexer": "ipython3",
   "version": "3.12.7"
  }
 },
 "nbformat": 4,
 "nbformat_minor": 5
}
